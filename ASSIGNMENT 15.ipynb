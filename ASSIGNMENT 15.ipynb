{
 "cells": [
  {
   "cell_type": "code",
   "execution_count": null,
   "id": "50680dad",
   "metadata": {},
   "outputs": [],
   "source": [
    "1.How many seconds are in an hour? Use the interactive interpreter as a calculator and multiply the\n",
    "number of seconds in a minute (60) by the number of minutes in an hour (also 60).\n",
    "ANSWER:\n",
    "    60*60\n",
    "    OP:3600"
   ]
  },
  {
   "cell_type": "code",
   "execution_count": null,
   "id": "942f4067",
   "metadata": {},
   "outputs": [],
   "source": [
    "2. Assign the result from the previous task (seconds in an hour) to a variable called\n",
    "seconds_per_hour.\n",
    "ANSWER:\n",
    "    seconds_per_hour = 3600"
   ]
  },
  {
   "cell_type": "code",
   "execution_count": null,
   "id": "c4bf0788",
   "metadata": {},
   "outputs": [],
   "source": [
    "3. How many seconds do you think there are in a day? Make use of the variables seconds per hour\n",
    "and minutes per hour.\n",
    "ANSWER:\n",
    "    seconds_per_hour*24\n",
    "    OP:86400"
   ]
  },
  {
   "cell_type": "code",
   "execution_count": null,
   "id": "eef833b5",
   "metadata": {},
   "outputs": [],
   "source": [
    "4. Calculate seconds per day again, but this time save the result in a variable called seconds_per_day\n",
    "ANSWER:\n",
    "    seconds_per_day = seconds_per_hour*24\n",
    "    OP:86400"
   ]
  },
  {
   "cell_type": "code",
   "execution_count": null,
   "id": "469a04cc",
   "metadata": {},
   "outputs": [],
   "source": [
    "5. Divide seconds_per_day by seconds_per_hour. Use floating-point (/) division.\n",
    "ANSWER:\n",
    "    seconds_per_day / seconds_per_hour\n",
    "    OP:24.0"
   ]
  },
  {
   "cell_type": "code",
   "execution_count": null,
   "id": "8a7c26c8",
   "metadata": {},
   "outputs": [],
   "source": [
    "6. Divide seconds_per_day by seconds_per_hour, using integer (//) division. Did this number agree\n",
    "with the floating-point value from the previous question, aside from the final .0?\n",
    "ANSWER:\n",
    "    seconds_per_day // seconds_per_hour\n",
    "    OP:24"
   ]
  },
  {
   "cell_type": "code",
   "execution_count": null,
   "id": "b0431202",
   "metadata": {},
   "outputs": [],
   "source": [
    "7. Write a generator, genPrimes, that returns the sequence of prime numbers on successive calls to\n",
    "its next() method: 2, 3, 5, 7, 11, ...\n",
    "ANSWER:\n",
    "    def genPrimes():\n",
    "    \n",
    "    primes = [ 2, 3, 5, 7, 11 ]\n",
    "    \n",
    "    def isPrimeNumber(n):\n",
    "        if n in primes:\n",
    "            return True\n",
    "        \n",
    "        for elem in primes:\n",
    "            if n % elem == 0:\n",
    "                return False\n",
    "                \n",
    "        primes.append(n)\n",
    "        return True\n",
    "    num = 1\n",
    "    while True:\n",
    "        num += 1\n",
    "        if isPrimeNumber(num):\n",
    "            next = num\n",
    "            yield next\n",
    "            num = next\n",
    "    primeNumber = genPrimes()\n",
    "\n",
    "    for i in range(189):\n",
    "        print(primeNumber.__next__())"
   ]
  }
 ],
 "metadata": {
  "kernelspec": {
   "display_name": "Python 3 (ipykernel)",
   "language": "python",
   "name": "python3"
  },
  "language_info": {
   "codemirror_mode": {
    "name": "ipython",
    "version": 3
   },
   "file_extension": ".py",
   "mimetype": "text/x-python",
   "name": "python",
   "nbconvert_exporter": "python",
   "pygments_lexer": "ipython3",
   "version": "3.9.13"
  }
 },
 "nbformat": 4,
 "nbformat_minor": 5
}
